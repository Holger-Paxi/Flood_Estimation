{
 "cells": [
  {
   "cell_type": "code",
   "execution_count": 1,
   "metadata": {},
   "outputs": [],
   "source": [
    "import pandas as pd\n",
    "import numpy as np\n",
    "import matplotlib.pyplot as plt"
   ]
  },
  {
   "cell_type": "code",
   "execution_count": 2,
   "metadata": {},
   "outputs": [
    {
     "name": "stdout",
     "output_type": "stream",
     "text": [
      "./Assignment_2__Input_FE/inputs_2025_Autumn_PRM/ARR87_IFDs.csv\n",
      "2.4\n",
      "0.6\n",
      "0.8\n",
      "0.7\n"
     ]
    }
   ],
   "source": [
    "ifd_arr87 = './Assignment_2__Input_FE/inputs_2025_Autumn_PRM/ARR87_IFDs.csv'\n",
    "catch_area = 2.4\n",
    "\n",
    "C10_min_contour = 0.6\n",
    "C10_max_contour = 0.8\n",
    "C10_mean_contour = 0.7\n",
    "\n",
    "num_simulations = 1_000_000\n",
    "\n",
    "print(\n",
    "    ifd_arr87,\n",
    "    catch_area,\n",
    "    C10_min_contour,\n",
    "    C10_max_contour,\n",
    "    C10_mean_contour,\n",
    "    sep='\\n')"
   ]
  },
  {
   "cell_type": "code",
   "execution_count": 3,
   "metadata": {},
   "outputs": [
    {
     "data": {
      "text/html": [
       "<div>\n",
       "<style scoped>\n",
       "    .dataframe tbody tr th:only-of-type {\n",
       "        vertical-align: middle;\n",
       "    }\n",
       "\n",
       "    .dataframe tbody tr th {\n",
       "        vertical-align: top;\n",
       "    }\n",
       "\n",
       "    .dataframe thead th {\n",
       "        text-align: right;\n",
       "    }\n",
       "</style>\n",
       "<table border=\"1\" class=\"dataframe\">\n",
       "  <thead>\n",
       "    <tr style=\"text-align: right;\">\n",
       "      <th></th>\n",
       "      <th>1</th>\n",
       "      <th>2</th>\n",
       "      <th>5</th>\n",
       "      <th>10</th>\n",
       "      <th>20</th>\n",
       "      <th>50</th>\n",
       "      <th>100</th>\n",
       "    </tr>\n",
       "    <tr>\n",
       "      <th>duration</th>\n",
       "      <th></th>\n",
       "      <th></th>\n",
       "      <th></th>\n",
       "      <th></th>\n",
       "      <th></th>\n",
       "      <th></th>\n",
       "      <th></th>\n",
       "    </tr>\n",
       "  </thead>\n",
       "  <tbody>\n",
       "    <tr>\n",
       "      <th>5</th>\n",
       "      <td>92.20</td>\n",
       "      <td>118.00</td>\n",
       "      <td>150.00</td>\n",
       "      <td>168.00</td>\n",
       "      <td>192.00</td>\n",
       "      <td>224.00</td>\n",
       "      <td>248.00</td>\n",
       "    </tr>\n",
       "    <tr>\n",
       "      <th>6</th>\n",
       "      <td>86.40</td>\n",
       "      <td>111.00</td>\n",
       "      <td>141.00</td>\n",
       "      <td>158.00</td>\n",
       "      <td>181.00</td>\n",
       "      <td>210.00</td>\n",
       "      <td>233.00</td>\n",
       "    </tr>\n",
       "    <tr>\n",
       "      <th>10</th>\n",
       "      <td>70.70</td>\n",
       "      <td>90.70</td>\n",
       "      <td>116.00</td>\n",
       "      <td>130.00</td>\n",
       "      <td>149.00</td>\n",
       "      <td>174.00</td>\n",
       "      <td>193.00</td>\n",
       "    </tr>\n",
       "    <tr>\n",
       "      <th>20</th>\n",
       "      <td>51.70</td>\n",
       "      <td>66.50</td>\n",
       "      <td>85.60</td>\n",
       "      <td>96.70</td>\n",
       "      <td>111.00</td>\n",
       "      <td>130.00</td>\n",
       "      <td>145.00</td>\n",
       "    </tr>\n",
       "    <tr>\n",
       "      <th>30</th>\n",
       "      <td>42.10</td>\n",
       "      <td>54.20</td>\n",
       "      <td>70.10</td>\n",
       "      <td>79.30</td>\n",
       "      <td>91.40</td>\n",
       "      <td>107.00</td>\n",
       "      <td>119.00</td>\n",
       "    </tr>\n",
       "    <tr>\n",
       "      <th>60</th>\n",
       "      <td>28.50</td>\n",
       "      <td>36.80</td>\n",
       "      <td>47.90</td>\n",
       "      <td>54.40</td>\n",
       "      <td>62.90</td>\n",
       "      <td>74.10</td>\n",
       "      <td>82.60</td>\n",
       "    </tr>\n",
       "    <tr>\n",
       "      <th>120</th>\n",
       "      <td>18.60</td>\n",
       "      <td>24.10</td>\n",
       "      <td>31.50</td>\n",
       "      <td>35.80</td>\n",
       "      <td>41.50</td>\n",
       "      <td>49.00</td>\n",
       "      <td>54.70</td>\n",
       "    </tr>\n",
       "    <tr>\n",
       "      <th>180</th>\n",
       "      <td>14.40</td>\n",
       "      <td>18.60</td>\n",
       "      <td>24.40</td>\n",
       "      <td>27.70</td>\n",
       "      <td>32.20</td>\n",
       "      <td>38.00</td>\n",
       "      <td>42.40</td>\n",
       "    </tr>\n",
       "    <tr>\n",
       "      <th>360</th>\n",
       "      <td>9.18</td>\n",
       "      <td>11.90</td>\n",
       "      <td>15.60</td>\n",
       "      <td>17.80</td>\n",
       "      <td>20.70</td>\n",
       "      <td>24.50</td>\n",
       "      <td>27.40</td>\n",
       "    </tr>\n",
       "    <tr>\n",
       "      <th>720</th>\n",
       "      <td>5.92</td>\n",
       "      <td>7.69</td>\n",
       "      <td>10.10</td>\n",
       "      <td>11.50</td>\n",
       "      <td>13.40</td>\n",
       "      <td>15.90</td>\n",
       "      <td>17.70</td>\n",
       "    </tr>\n",
       "    <tr>\n",
       "      <th>1440</th>\n",
       "      <td>3.88</td>\n",
       "      <td>5.04</td>\n",
       "      <td>6.61</td>\n",
       "      <td>7.55</td>\n",
       "      <td>8.77</td>\n",
       "      <td>10.40</td>\n",
       "      <td>11.60</td>\n",
       "    </tr>\n",
       "    <tr>\n",
       "      <th>2880</th>\n",
       "      <td>2.51</td>\n",
       "      <td>3.26</td>\n",
       "      <td>4.27</td>\n",
       "      <td>4.87</td>\n",
       "      <td>5.66</td>\n",
       "      <td>6.69</td>\n",
       "      <td>7.47</td>\n",
       "    </tr>\n",
       "    <tr>\n",
       "      <th>4320</th>\n",
       "      <td>1.88</td>\n",
       "      <td>2.44</td>\n",
       "      <td>3.20</td>\n",
       "      <td>3.65</td>\n",
       "      <td>4.23</td>\n",
       "      <td>5.00</td>\n",
       "      <td>5.59</td>\n",
       "    </tr>\n",
       "  </tbody>\n",
       "</table>\n",
       "</div>"
      ],
      "text/plain": [
       "            1       2       5       10      20      50      100\n",
       "duration                                                       \n",
       "5         92.20  118.00  150.00  168.00  192.00  224.00  248.00\n",
       "6         86.40  111.00  141.00  158.00  181.00  210.00  233.00\n",
       "10        70.70   90.70  116.00  130.00  149.00  174.00  193.00\n",
       "20        51.70   66.50   85.60   96.70  111.00  130.00  145.00\n",
       "30        42.10   54.20   70.10   79.30   91.40  107.00  119.00\n",
       "60        28.50   36.80   47.90   54.40   62.90   74.10   82.60\n",
       "120       18.60   24.10   31.50   35.80   41.50   49.00   54.70\n",
       "180       14.40   18.60   24.40   27.70   32.20   38.00   42.40\n",
       "360        9.18   11.90   15.60   17.80   20.70   24.50   27.40\n",
       "720        5.92    7.69   10.10   11.50   13.40   15.90   17.70\n",
       "1440       3.88    5.04    6.61    7.55    8.77   10.40   11.60\n",
       "2880       2.51    3.26    4.27    4.87    5.66    6.69    7.47\n",
       "4320       1.88    2.44    3.20    3.65    4.23    5.00    5.59"
      ]
     },
     "execution_count": 3,
     "metadata": {},
     "output_type": "execute_result"
    }
   ],
   "source": [
    "df_ifd = pd.read_csv(filepath_or_buffer=ifd_arr87, skiprows=2)\n",
    "df_ifd['duration'] = df_ifd.DURATION.str.split(pat=' ').str[0].astype(int)\n",
    "df_ifd['units'] = df_ifd.DURATION.str.split(pat=' ').str[1]\n",
    "df_ifd.units = df_ifd.units.map(arg={'mins':'min', 'hours':'hr', 'hour':'hr'})\n",
    "df_ifd.duration = df_ifd.apply(func=lambda arg: pd.to_timedelta(arg=arg.duration, unit=arg.units), axis=1)\n",
    "df_ifd.duration = df_ifd.duration / pd.Timedelta(minutes=1)\n",
    "df_ifd['duration'] = df_ifd['duration'].astype(int)\n",
    "df_ifd.drop(columns=['DURATION', 'units'], inplace=True)\n",
    "df_ifd.set_index(keys='duration', inplace=True)\n",
    "df_ifd.columns = df_ifd.columns.astype(int)\n",
    "\n",
    "df_ifd"
   ]
  },
  {
   "cell_type": "code",
   "execution_count": 4,
   "metadata": {},
   "outputs": [
    {
     "data": {
      "text/plain": [
       "63.59824252533506"
      ]
     },
     "execution_count": 4,
     "metadata": {},
     "output_type": "execute_result"
    }
   ],
   "source": [
    "tc = 0.76*(catch_area**0.38)\n",
    "tc = tc*60\n",
    "\n",
    "tc"
   ]
  },
  {
   "cell_type": "code",
   "execution_count": 5,
   "metadata": {},
   "outputs": [
    {
     "data": {
      "text/plain": [
       "array([ 60, 120])"
      ]
     },
     "execution_count": 5,
     "metadata": {},
     "output_type": "execute_result"
    }
   ],
   "source": [
    "# Find the insertion point\n",
    "idx = np.searchsorted(df_ifd.index.to_numpy(), tc)\n",
    "\n",
    "# Determine the limits\n",
    "if idx == 0:\n",
    "    lower_limit = None\n",
    "    upper_limit = df_ifd.index.to_numpy()[0]\n",
    "elif idx == len(df_ifd.index.to_numpy()):\n",
    "    lower_limit = df_ifd.index.to_numpy()[-1]\n",
    "    upper_limit = None\n",
    "else:\n",
    "    lower_limit = df_ifd.index.to_numpy()[idx - 1]\n",
    "    upper_limit = df_ifd.index.to_numpy()[idx]\n",
    "\n",
    "idx = np.array(object=[lower_limit, upper_limit])\n",
    "idx"
   ]
  },
  {
   "cell_type": "code",
   "execution_count": 6,
   "metadata": {},
   "outputs": [
    {
     "data": {
      "text/plain": [
       "(array([28.5, 36.8, 47.9, 54.4, 62.9, 74.1, 82.6]),\n",
       " array([18.6, 24.1, 31.5, 35.8, 41.5, 49. , 54.7]))"
      ]
     },
     "execution_count": 6,
     "metadata": {},
     "output_type": "execute_result"
    }
   ],
   "source": [
    "I_minh_Xy = df_ifd.loc[idx.min(),:].to_numpy()\n",
    "I_maxh_Xy = df_ifd.loc[idx.max(),:].to_numpy()\n",
    "\n",
    "I_minh_Xy, I_maxh_Xy"
   ]
  },
  {
   "cell_type": "code",
   "execution_count": 7,
   "metadata": {},
   "outputs": [],
   "source": [
    "# I_1h_100y = df_ifd.loc[60,100]\n",
    "# I_2h_100y = df_ifd.loc[120,100]\n",
    "\n",
    "# I_1h_100y, I_2h_100y"
   ]
  },
  {
   "cell_type": "code",
   "execution_count": 8,
   "metadata": {},
   "outputs": [
    {
     "data": {
      "text/plain": [
       "array([27.90628998, 36.038372  , 46.91648038, 53.28454482, 61.61662683,\n",
       "       72.59473521, 80.92681723])"
      ]
     },
     "execution_count": 8,
     "metadata": {},
     "output_type": "execute_result"
    }
   ],
   "source": [
    "I_catch = [np.interp(x=tc, xp=[60,120], fp=[ind1, ind2]) for ind1,ind2 in zip(I_minh_Xy, I_maxh_Xy)]\n",
    "I_catch = np.array(object=I_catch)\n",
    "\n",
    "I_catch"
   ]
  },
  {
   "cell_type": "code",
   "execution_count": 9,
   "metadata": {},
   "outputs": [],
   "source": [
    "# I_catch = np.interp(x=tc, xp=[60,120], fp=[I_1h_100y,I_2h_100y])\n",
    "\n",
    "# I_catch"
   ]
  },
  {
   "cell_type": "code",
   "execution_count": 10,
   "metadata": {},
   "outputs": [
    {
     "data": {
      "text/plain": [
       "array([0.60000048, 0.60000552, 0.60000811, ..., 0.79997083, 0.79997267,\n",
       "       0.79999266])"
      ]
     },
     "execution_count": 10,
     "metadata": {},
     "output_type": "execute_result"
    }
   ],
   "source": [
    "# Mean and standard deviation\n",
    "contours = np.array(object=[C10_min_contour, C10_max_contour])\n",
    "six_sigma = 2*np.min(a=abs(contours - C10_mean_contour))\n",
    "std_dev = six_sigma / 6\n",
    "contours = np.array(object=[C10_mean_contour - 3*std_dev, C10_mean_contour + 3*std_dev])\n",
    "\n",
    "# Generate random points with a normal distribution\n",
    "C10_value = np.random.normal(C10_mean_contour, std_dev, num_simulations)\n",
    "\n",
    "# Filter points to be within the desired range (0.7 to 0.8)\n",
    "C10_value = C10_value[(C10_value >= contours.min()) & (C10_value <= contours.max())]\n",
    "C10_value = np.sort(a=C10_value)\n",
    "\n",
    "C10_value"
   ]
  },
  {
   "cell_type": "code",
   "execution_count": 11,
   "metadata": {},
   "outputs": [
    {
     "data": {
      "text/plain": [
       "(15.9, 7.69)"
      ]
     },
     "execution_count": 11,
     "metadata": {},
     "output_type": "execute_result"
    }
   ],
   "source": [
    "I_12h_50y = df_ifd.loc[720,50]\n",
    "I_12h_2y = df_ifd.loc[720,2]\n",
    "\n",
    "I_12h_50y, I_12h_2y"
   ]
  },
  {
   "cell_type": "code",
   "execution_count": 12,
   "metadata": {},
   "outputs": [
    {
     "data": {
      "text/plain": [
       "(1.233250975292588, 1.3542392717815344)"
      ]
     },
     "execution_count": 12,
     "metadata": {},
     "output_type": "execute_result"
    }
   ],
   "source": [
    "FF_50 = 1.99 - 0.366*I_12h_50y/I_12h_2y\n",
    "FF_100 = 2.57 - 0.588*I_12h_50y/I_12h_2y\n",
    "\n",
    "FF_50, FF_100"
   ]
  },
  {
   "cell_type": "code",
   "execution_count": 13,
   "metadata": {},
   "outputs": [
    {
     "data": {
      "text/plain": [
       "{'FF_1': 0.62,\n",
       " 'FF_2': 0.74,\n",
       " 'FF_5': 0.88,\n",
       " 'FF_10': 1,\n",
       " 'FF_20': 1.12,\n",
       " 'FF_50': 1.233250975292588,\n",
       " 'FF_100': 1.3542392717815344}"
      ]
     },
     "execution_count": 13,
     "metadata": {},
     "output_type": "execute_result"
    }
   ],
   "source": [
    "FF_y = {\n",
    "    'FF_1': 0.62, \n",
    "    'FF_2': 0.74, \n",
    "    'FF_5': 0.88, \n",
    "    'FF_10': 1, \n",
    "    'FF_20': 1.12,\n",
    "    'FF_50': FF_50,\n",
    "    'FF_100': FF_100,\n",
    "    }\n",
    "\n",
    "FF_y"
   ]
  },
  {
   "cell_type": "code",
   "execution_count": 14,
   "metadata": {},
   "outputs": [
    {
     "data": {
      "text/plain": [
       "array([0.62      , 0.74      , 0.88      , 1.        , 1.12      ,\n",
       "       1.23325098, 1.35423927])"
      ]
     },
     "execution_count": 14,
     "metadata": {},
     "output_type": "execute_result"
    }
   ],
   "source": [
    "np.array(object=list(FF_y.values()))"
   ]
  },
  {
   "cell_type": "code",
   "execution_count": 15,
   "metadata": {},
   "outputs": [
    {
     "data": {
      "text/plain": [
       "array([[0.3720003 , 0.37200342, 0.37200503, ..., 0.49598191, 0.49598306,\n",
       "        0.49599545],\n",
       "       [0.44400036, 0.44400408, 0.444006  , ..., 0.59197841, 0.59197978,\n",
       "        0.59199457],\n",
       "       [0.52800043, 0.52800486, 0.52800713, ..., 0.70397433, 0.70397595,\n",
       "        0.70399354],\n",
       "       ...,\n",
       "       [0.67200054, 0.67200618, 0.67200908, ..., 0.89596733, 0.89596939,\n",
       "        0.89599178],\n",
       "       [0.73995118, 0.73995739, 0.73996058, ..., 0.9865648 , 0.98656708,\n",
       "        0.98659172],\n",
       "       [0.81254422, 0.81255104, 0.81255454, ..., 1.08335191, 1.08335441,\n",
       "        1.08338147]])"
      ]
     },
     "execution_count": 15,
     "metadata": {},
     "output_type": "execute_result"
    }
   ],
   "source": [
    "C100 = np.array(object=[C10_value*ind for ind in np.array(object=list(FF_y.values()))])\n",
    "\n",
    "C100"
   ]
  },
  {
   "cell_type": "code",
   "execution_count": 16,
   "metadata": {},
   "outputs": [],
   "source": [
    "# C100 = FF_100 * C10_value\n",
    "# C100"
   ]
  },
  {
   "cell_type": "code",
   "execution_count": 17,
   "metadata": {},
   "outputs": [
    {
     "data": {
      "text/html": [
       "<div>\n",
       "<style scoped>\n",
       "    .dataframe tbody tr th:only-of-type {\n",
       "        vertical-align: middle;\n",
       "    }\n",
       "\n",
       "    .dataframe tbody tr th {\n",
       "        vertical-align: top;\n",
       "    }\n",
       "\n",
       "    .dataframe thead th {\n",
       "        text-align: right;\n",
       "    }\n",
       "</style>\n",
       "<table border=\"1\" class=\"dataframe\">\n",
       "  <thead>\n",
       "    <tr style=\"text-align: right;\">\n",
       "      <th></th>\n",
       "      <th>1</th>\n",
       "      <th>2</th>\n",
       "      <th>5</th>\n",
       "      <th>10</th>\n",
       "      <th>20</th>\n",
       "      <th>50</th>\n",
       "      <th>100</th>\n",
       "    </tr>\n",
       "  </thead>\n",
       "  <tbody>\n",
       "    <tr>\n",
       "      <th>0</th>\n",
       "      <td>6.920766</td>\n",
       "      <td>10.667367</td>\n",
       "      <td>16.514614</td>\n",
       "      <td>21.313835</td>\n",
       "      <td>27.604271</td>\n",
       "      <td>35.811040</td>\n",
       "      <td>43.837745</td>\n",
       "    </tr>\n",
       "    <tr>\n",
       "      <th>1</th>\n",
       "      <td>6.920824</td>\n",
       "      <td>10.667456</td>\n",
       "      <td>16.514753</td>\n",
       "      <td>21.314014</td>\n",
       "      <td>27.604503</td>\n",
       "      <td>35.811341</td>\n",
       "      <td>43.838113</td>\n",
       "    </tr>\n",
       "    <tr>\n",
       "      <th>2</th>\n",
       "      <td>6.920853</td>\n",
       "      <td>10.667502</td>\n",
       "      <td>16.514824</td>\n",
       "      <td>21.314106</td>\n",
       "      <td>27.604622</td>\n",
       "      <td>35.811495</td>\n",
       "      <td>43.838302</td>\n",
       "    </tr>\n",
       "    <tr>\n",
       "      <th>3</th>\n",
       "      <td>6.920933</td>\n",
       "      <td>10.667625</td>\n",
       "      <td>16.515014</td>\n",
       "      <td>21.314351</td>\n",
       "      <td>27.604939</td>\n",
       "      <td>35.811907</td>\n",
       "      <td>43.838806</td>\n",
       "    </tr>\n",
       "    <tr>\n",
       "      <th>4</th>\n",
       "      <td>6.920936</td>\n",
       "      <td>10.667629</td>\n",
       "      <td>16.515021</td>\n",
       "      <td>21.314360</td>\n",
       "      <td>27.604951</td>\n",
       "      <td>35.811922</td>\n",
       "      <td>43.838825</td>\n",
       "    </tr>\n",
       "    <tr>\n",
       "      <th>...</th>\n",
       "      <td>...</td>\n",
       "      <td>...</td>\n",
       "      <td>...</td>\n",
       "      <td>...</td>\n",
       "      <td>...</td>\n",
       "      <td>...</td>\n",
       "      <td>...</td>\n",
       "    </tr>\n",
       "    <tr>\n",
       "      <th>997309</th>\n",
       "      <td>9.227208</td>\n",
       "      <td>14.222416</td>\n",
       "      <td>22.018341</td>\n",
       "      <td>28.416969</td>\n",
       "      <td>36.803781</td>\n",
       "      <td>47.745571</td>\n",
       "      <td>58.447287</td>\n",
       "    </tr>\n",
       "    <tr>\n",
       "      <th>997310</th>\n",
       "      <td>9.227239</td>\n",
       "      <td>14.222465</td>\n",
       "      <td>22.018417</td>\n",
       "      <td>28.417067</td>\n",
       "      <td>36.803907</td>\n",
       "      <td>47.745735</td>\n",
       "      <td>58.447488</td>\n",
       "    </tr>\n",
       "    <tr>\n",
       "      <th>997311</th>\n",
       "      <td>9.227343</td>\n",
       "      <td>14.222625</td>\n",
       "      <td>22.018665</td>\n",
       "      <td>28.417388</td>\n",
       "      <td>36.804323</td>\n",
       "      <td>47.746274</td>\n",
       "      <td>58.448148</td>\n",
       "    </tr>\n",
       "    <tr>\n",
       "      <th>997312</th>\n",
       "      <td>9.227365</td>\n",
       "      <td>14.222658</td>\n",
       "      <td>22.018716</td>\n",
       "      <td>28.417453</td>\n",
       "      <td>36.804408</td>\n",
       "      <td>47.746384</td>\n",
       "      <td>58.448283</td>\n",
       "    </tr>\n",
       "    <tr>\n",
       "      <th>997313</th>\n",
       "      <td>9.227595</td>\n",
       "      <td>14.223014</td>\n",
       "      <td>22.019266</td>\n",
       "      <td>28.418163</td>\n",
       "      <td>36.805327</td>\n",
       "      <td>47.747577</td>\n",
       "      <td>58.449743</td>\n",
       "    </tr>\n",
       "  </tbody>\n",
       "</table>\n",
       "<p>997314 rows × 7 columns</p>\n",
       "</div>"
      ],
      "text/plain": [
       "             1          2          5          10         20         50   \\\n",
       "0       6.920766  10.667367  16.514614  21.313835  27.604271  35.811040   \n",
       "1       6.920824  10.667456  16.514753  21.314014  27.604503  35.811341   \n",
       "2       6.920853  10.667502  16.514824  21.314106  27.604622  35.811495   \n",
       "3       6.920933  10.667625  16.515014  21.314351  27.604939  35.811907   \n",
       "4       6.920936  10.667629  16.515021  21.314360  27.604951  35.811922   \n",
       "...          ...        ...        ...        ...        ...        ...   \n",
       "997309  9.227208  14.222416  22.018341  28.416969  36.803781  47.745571   \n",
       "997310  9.227239  14.222465  22.018417  28.417067  36.803907  47.745735   \n",
       "997311  9.227343  14.222625  22.018665  28.417388  36.804323  47.746274   \n",
       "997312  9.227365  14.222658  22.018716  28.417453  36.804408  47.746384   \n",
       "997313  9.227595  14.223014  22.019266  28.418163  36.805327  47.747577   \n",
       "\n",
       "              100  \n",
       "0       43.837745  \n",
       "1       43.838113  \n",
       "2       43.838302  \n",
       "3       43.838806  \n",
       "4       43.838825  \n",
       "...           ...  \n",
       "997309  58.447287  \n",
       "997310  58.447488  \n",
       "997311  58.448148  \n",
       "997312  58.448283  \n",
       "997313  58.449743  \n",
       "\n",
       "[997314 rows x 7 columns]"
      ]
     },
     "execution_count": 17,
     "metadata": {},
     "output_type": "execute_result"
    }
   ],
   "source": [
    "Q_y = C100*np.reshape(a=I_catch, newshape=(7,1))*catch_area/3.6\n",
    "Q_y = np.transpose(a=Q_y)\n",
    "Q_y = pd.DataFrame(data=Q_y, columns=df_ifd.columns)\n",
    "\n",
    "Q_y"
   ]
  },
  {
   "cell_type": "code",
   "execution_count": 18,
   "metadata": {},
   "outputs": [
    {
     "data": {
      "text/html": [
       "<div>\n",
       "<style scoped>\n",
       "    .dataframe tbody tr th:only-of-type {\n",
       "        vertical-align: middle;\n",
       "    }\n",
       "\n",
       "    .dataframe tbody tr th {\n",
       "        vertical-align: top;\n",
       "    }\n",
       "\n",
       "    .dataframe thead th {\n",
       "        text-align: right;\n",
       "    }\n",
       "</style>\n",
       "<table border=\"1\" class=\"dataframe\">\n",
       "  <thead>\n",
       "    <tr style=\"text-align: right;\">\n",
       "      <th></th>\n",
       "      <th>1</th>\n",
       "      <th>2</th>\n",
       "      <th>5</th>\n",
       "      <th>10</th>\n",
       "      <th>20</th>\n",
       "      <th>50</th>\n",
       "      <th>100</th>\n",
       "    </tr>\n",
       "  </thead>\n",
       "  <tbody>\n",
       "    <tr>\n",
       "      <th>count</th>\n",
       "      <td>997314.000000</td>\n",
       "      <td>997314.000000</td>\n",
       "      <td>997314.000000</td>\n",
       "      <td>997314.000000</td>\n",
       "      <td>997314.000000</td>\n",
       "      <td>997314.000000</td>\n",
       "      <td>997314.000000</td>\n",
       "    </tr>\n",
       "    <tr>\n",
       "      <th>mean</th>\n",
       "      <td>8.074512</td>\n",
       "      <td>12.445702</td>\n",
       "      <td>19.267733</td>\n",
       "      <td>24.867022</td>\n",
       "      <td>32.206124</td>\n",
       "      <td>41.781027</td>\n",
       "      <td>51.145848</td>\n",
       "    </tr>\n",
       "    <tr>\n",
       "      <th>std</th>\n",
       "      <td>0.379126</td>\n",
       "      <td>0.584369</td>\n",
       "      <td>0.904687</td>\n",
       "      <td>1.167593</td>\n",
       "      <td>1.512189</td>\n",
       "      <td>1.961764</td>\n",
       "      <td>2.401475</td>\n",
       "    </tr>\n",
       "    <tr>\n",
       "      <th>min</th>\n",
       "      <td>6.920766</td>\n",
       "      <td>10.667367</td>\n",
       "      <td>16.514614</td>\n",
       "      <td>21.313835</td>\n",
       "      <td>27.604271</td>\n",
       "      <td>35.811040</td>\n",
       "      <td>43.837745</td>\n",
       "    </tr>\n",
       "    <tr>\n",
       "      <th>5%</th>\n",
       "      <td>7.447435</td>\n",
       "      <td>11.479152</td>\n",
       "      <td>17.771375</td>\n",
       "      <td>22.935816</td>\n",
       "      <td>29.704953</td>\n",
       "      <td>38.536256</td>\n",
       "      <td>47.173792</td>\n",
       "    </tr>\n",
       "    <tr>\n",
       "      <th>50%</th>\n",
       "      <td>8.074520</td>\n",
       "      <td>12.445713</td>\n",
       "      <td>19.267750</td>\n",
       "      <td>24.867045</td>\n",
       "      <td>32.206153</td>\n",
       "      <td>41.781065</td>\n",
       "      <td>51.145894</td>\n",
       "    </tr>\n",
       "    <tr>\n",
       "      <th>95%</th>\n",
       "      <td>8.701799</td>\n",
       "      <td>13.412573</td>\n",
       "      <td>20.764588</td>\n",
       "      <td>26.798871</td>\n",
       "      <td>34.708127</td>\n",
       "      <td>45.026877</td>\n",
       "      <td>55.119224</td>\n",
       "    </tr>\n",
       "    <tr>\n",
       "      <th>max</th>\n",
       "      <td>9.227595</td>\n",
       "      <td>14.223014</td>\n",
       "      <td>22.019266</td>\n",
       "      <td>28.418163</td>\n",
       "      <td>36.805327</td>\n",
       "      <td>47.747577</td>\n",
       "      <td>58.449743</td>\n",
       "    </tr>\n",
       "  </tbody>\n",
       "</table>\n",
       "</div>"
      ],
      "text/plain": [
       "                 1              2              5              10   \\\n",
       "count  997314.000000  997314.000000  997314.000000  997314.000000   \n",
       "mean        8.074512      12.445702      19.267733      24.867022   \n",
       "std         0.379126       0.584369       0.904687       1.167593   \n",
       "min         6.920766      10.667367      16.514614      21.313835   \n",
       "5%          7.447435      11.479152      17.771375      22.935816   \n",
       "50%         8.074520      12.445713      19.267750      24.867045   \n",
       "95%         8.701799      13.412573      20.764588      26.798871   \n",
       "max         9.227595      14.223014      22.019266      28.418163   \n",
       "\n",
       "                 20             50             100  \n",
       "count  997314.000000  997314.000000  997314.000000  \n",
       "mean       32.206124      41.781027      51.145848  \n",
       "std         1.512189       1.961764       2.401475  \n",
       "min        27.604271      35.811040      43.837745  \n",
       "5%         29.704953      38.536256      47.173792  \n",
       "50%        32.206153      41.781065      51.145894  \n",
       "95%        34.708127      45.026877      55.119224  \n",
       "max        36.805327      47.747577      58.449743  "
      ]
     },
     "execution_count": 18,
     "metadata": {},
     "output_type": "execute_result"
    }
   ],
   "source": [
    "Q_y_stats = Q_y.describe(percentiles=[0.05, 0.5, 0.95])\n",
    "\n",
    "Q_y_stats"
   ]
  },
  {
   "cell_type": "code",
   "execution_count": 19,
   "metadata": {},
   "outputs": [
    {
     "name": "stdout",
     "output_type": "stream",
     "text": [
      "Index(['count', 'mean', 'std', 'min', '5%', '50%', '95%', 'max'], dtype='object')\n"
     ]
    }
   ],
   "source": [
    "print(Q_y_stats.index)"
   ]
  },
  {
   "cell_type": "code",
   "execution_count": 20,
   "metadata": {},
   "outputs": [
    {
     "data": {
      "text/html": [
       "<div>\n",
       "<style scoped>\n",
       "    .dataframe tbody tr th:only-of-type {\n",
       "        vertical-align: middle;\n",
       "    }\n",
       "\n",
       "    .dataframe tbody tr th {\n",
       "        vertical-align: top;\n",
       "    }\n",
       "\n",
       "    .dataframe thead th {\n",
       "        text-align: right;\n",
       "    }\n",
       "</style>\n",
       "<table border=\"1\" class=\"dataframe\">\n",
       "  <thead>\n",
       "    <tr style=\"text-align: right;\">\n",
       "      <th></th>\n",
       "      <th>1</th>\n",
       "      <th>2</th>\n",
       "      <th>5</th>\n",
       "      <th>10</th>\n",
       "      <th>20</th>\n",
       "      <th>50</th>\n",
       "      <th>100</th>\n",
       "    </tr>\n",
       "  </thead>\n",
       "  <tbody>\n",
       "    <tr>\n",
       "      <th>mean</th>\n",
       "      <td>8.074512</td>\n",
       "      <td>12.445702</td>\n",
       "      <td>19.267733</td>\n",
       "      <td>24.867022</td>\n",
       "      <td>32.206124</td>\n",
       "      <td>41.781027</td>\n",
       "      <td>51.145848</td>\n",
       "    </tr>\n",
       "    <tr>\n",
       "      <th>min</th>\n",
       "      <td>6.920766</td>\n",
       "      <td>10.667367</td>\n",
       "      <td>16.514614</td>\n",
       "      <td>21.313835</td>\n",
       "      <td>27.604271</td>\n",
       "      <td>35.811040</td>\n",
       "      <td>43.837745</td>\n",
       "    </tr>\n",
       "    <tr>\n",
       "      <th>5%</th>\n",
       "      <td>7.447435</td>\n",
       "      <td>11.479152</td>\n",
       "      <td>17.771375</td>\n",
       "      <td>22.935816</td>\n",
       "      <td>29.704953</td>\n",
       "      <td>38.536256</td>\n",
       "      <td>47.173792</td>\n",
       "    </tr>\n",
       "    <tr>\n",
       "      <th>50%</th>\n",
       "      <td>8.074520</td>\n",
       "      <td>12.445713</td>\n",
       "      <td>19.267750</td>\n",
       "      <td>24.867045</td>\n",
       "      <td>32.206153</td>\n",
       "      <td>41.781065</td>\n",
       "      <td>51.145894</td>\n",
       "    </tr>\n",
       "    <tr>\n",
       "      <th>95%</th>\n",
       "      <td>8.701799</td>\n",
       "      <td>13.412573</td>\n",
       "      <td>20.764588</td>\n",
       "      <td>26.798871</td>\n",
       "      <td>34.708127</td>\n",
       "      <td>45.026877</td>\n",
       "      <td>55.119224</td>\n",
       "    </tr>\n",
       "    <tr>\n",
       "      <th>max</th>\n",
       "      <td>9.227595</td>\n",
       "      <td>14.223014</td>\n",
       "      <td>22.019266</td>\n",
       "      <td>28.418163</td>\n",
       "      <td>36.805327</td>\n",
       "      <td>47.747577</td>\n",
       "      <td>58.449743</td>\n",
       "    </tr>\n",
       "  </tbody>\n",
       "</table>\n",
       "</div>"
      ],
      "text/plain": [
       "           1          2          5          10         20         50   \\\n",
       "mean  8.074512  12.445702  19.267733  24.867022  32.206124  41.781027   \n",
       "min   6.920766  10.667367  16.514614  21.313835  27.604271  35.811040   \n",
       "5%    7.447435  11.479152  17.771375  22.935816  29.704953  38.536256   \n",
       "50%   8.074520  12.445713  19.267750  24.867045  32.206153  41.781065   \n",
       "95%   8.701799  13.412573  20.764588  26.798871  34.708127  45.026877   \n",
       "max   9.227595  14.223014  22.019266  28.418163  36.805327  47.747577   \n",
       "\n",
       "            100  \n",
       "mean  51.145848  \n",
       "min   43.837745  \n",
       "5%    47.173792  \n",
       "50%   51.145894  \n",
       "95%   55.119224  \n",
       "max   58.449743  "
      ]
     },
     "execution_count": 20,
     "metadata": {},
     "output_type": "execute_result"
    }
   ],
   "source": [
    "Q_y_plot = Q_y_stats.copy()\n",
    "Q_y_plot.drop(index=['count', 'std'], inplace=True)\n",
    "\n",
    "Q_y_plot"
   ]
  },
  {
   "cell_type": "code",
   "execution_count": 21,
   "metadata": {},
   "outputs": [
    {
     "data": {
      "text/plain": [
       "array([  1,   2,   5,  10,  20,  50, 100])"
      ]
     },
     "execution_count": 21,
     "metadata": {},
     "output_type": "execute_result"
    }
   ],
   "source": [
    "x = Q_y_stats.columns.to_numpy()\n",
    "y_mean = Q_y_stats.loc['mean'].to_numpy()\n",
    "y_05 = Q_y_stats.loc['5%'].to_numpy()\n",
    "y_50 = Q_y_stats.loc['50%'].to_numpy()\n",
    "y_95 = Q_y_stats.loc['95%'].to_numpy()\n",
    "y_min = Q_y_stats.loc['min'].to_numpy()\n",
    "y_max = Q_y_stats.loc['max'].to_numpy()\n",
    "\n",
    "x"
   ]
  },
  {
   "cell_type": "code",
   "execution_count": 24,
   "metadata": {},
   "outputs": [
    {
     "data": {
      "image/png": "[encoded data removed]",
      "text/plain": [
       "<Figure size 1000x600 with 1 Axes>"
      ]
     },
     "metadata": {},
     "output_type": "display_data"
    }
   ],
   "source": [
    "fig, ax = plt.subplots(figsize=(10, 6))\n",
    "\n",
    "ax.plot(Q_y_plot.T, color='lightgrey', alpha=1)\n",
    "ax.set_xscale('log')"
   ]
  },
  {
   "cell_type": "code",
   "execution_count": null,
   "metadata": {},
   "outputs": [],
   "source": []
  }
 ],
 "metadata": {
  "kernelspec": {
   "display_name": "usr",
   "language": "python",
   "name": "python3"
  },
  "language_info": {
   "codemirror_mode": {
    "name": "ipython",
    "version": 3
   },
   "file_extension": ".py",
   "mimetype": "text/x-python",
   "name": "python",
   "nbconvert_exporter": "python",
   "pygments_lexer": "ipython3",
   "version": "3.12.3"
  },
  "orig_nbformat": 4
 },
 "nbformat": 4,
 "nbformat_minor": 2
}
